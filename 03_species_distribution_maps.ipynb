{
 "cells": [
  {
   "cell_type": "code",
   "execution_count": null,
   "metadata": {},
   "outputs": [],
   "source": [
    "# default_exp species_distribution_maps"
   ]
  },
  {
   "cell_type": "code",
   "execution_count": null,
   "metadata": {},
   "outputs": [],
   "source": [
    "import requests as req\n",
    "import glob\n",
    "import json\n",
    "\n",
    "import pandas as pd"
   ]
  },
  {
   "cell_type": "code",
   "execution_count": null,
   "metadata": {},
   "outputs": [],
   "source": [
    "# export\n",
    "\n",
    "def extract_distribution_map(g_query_response):\n",
    "    data = g_query_response['data']\n",
    "    search_taxon = data['searchTaxon']\n",
    "    num_taxa = search_taxon['totalCount']\n",
    "    \n",
    "    edges = search_taxon['edges']\n",
    "    nodes = []\n",
    "    \n",
    "    for edge in edges:\n",
    "        node = edge['node']\n",
    "        node['mapasDistribucion'] = node['mapasDistribucion']['edges']\n",
    "        nodes.append(node)\n",
    "\n",
    "    return nodes"
   ]
  },
  {
   "cell_type": "code",
   "execution_count": null,
   "metadata": {},
   "outputs": [],
   "source": [
    "cactus_dir = '/Users/RaulSierra/Ecoinformatica/Proyectos/Analisis/OutliersEjemplaresSNIB/snib-datos-geo-validacion/cactus/'\n",
    "cactus_files = glob.glob(cactus_dir + '/*.csv')"
   ]
  },
  {
   "cell_type": "code",
   "execution_count": null,
   "metadata": {},
   "outputs": [],
   "source": [
    "anfibios_dir = '/Users/RaulSierra/Ecoinformatica/Proyectos/Analisis/OutliersEjemplaresSNIB/snib-datos-geo-validacion/anfibios/'\n",
    "anfibios_files = glob.glob(anfibios_dir + '/*.csv')\n",
    "\n",
    "csv_files = cactus_files + anfibios_files"
   ]
  },
  {
   "cell_type": "code",
   "execution_count": null,
   "metadata": {},
   "outputs": [],
   "source": [
    "dfs_list = []\n",
    "for file in csv_files:\n",
    "    dfs_list.append(pd.read_csv(file, index_col=0, encoding='latin_1', low_memory=False))\n",
    "\n",
    "records = pd.concat(dfs_list, sort=False)"
   ]
  },
  {
   "cell_type": "code",
   "execution_count": null,
   "metadata": {},
   "outputs": [
    {
     "name": "stdout",
     "output_type": "stream",
     "text": [
      "<class 'pandas.core.frame.DataFrame'>\n",
      "Int64Index: 175889 entries, 0 to 111\n",
      "Data columns (total 28 columns):\n",
      " #   Column                Non-Null Count   Dtype  \n",
      "---  ------                --------------   -----  \n",
      " 0   especievalida         175889 non-null  object \n",
      " 1   gridid                175889 non-null  int64  \n",
      " 2   longitud              175889 non-null  float64\n",
      " 3   latitud               175889 non-null  float64\n",
      " 4   cuarentena            293 non-null     object \n",
      " 5   isoutlier             175889 non-null  bool   \n",
      " 6   ms_cluster            175889 non-null  int64  \n",
      " 7   tscore                175889 non-null  float64\n",
      " 8   clasevalida           175889 non-null  object \n",
      " 9   ordenvalido           175889 non-null  object \n",
      " 10  familiavalida         175889 non-null  object \n",
      " 11  altitudmapa           175238 non-null  float64\n",
      " 12  ambiente              175889 non-null  object \n",
      " 13  aniocolecta           175889 non-null  int64  \n",
      " 14  probablelocnodecampo  8592 non-null    object \n",
      " 15  version               175889 non-null  object \n",
      " 16  urlejemplar           175889 non-null  object \n",
      " 17  idejemplar            175889 non-null  object \n",
      " 18  sospechoso            174897 non-null  object \n",
      " 19  DistConocida          128995 non-null  object \n",
      " 20  DistPotencial         48479 non-null   object \n",
      " 21  Buffer (Km)           9437 non-null    object \n",
      " 22  EstadoDoc             23847 non-null   object \n",
      " 23  ValidoAmbiente        418 non-null     object \n",
      " 24  BufferAmbiente        418 non-null     object \n",
      " 25  MapaUSV               87 non-null      object \n",
      " 26  DistHistorica         238 non-null     object \n",
      " 27  razon_sospecha        6077 non-null    object \n",
      "dtypes: bool(1), float64(4), int64(3), object(20)\n",
      "memory usage: 37.7+ MB\n"
     ]
    }
   ],
   "source": [
    "records.info()"
   ]
  },
  {
   "cell_type": "code",
   "execution_count": null,
   "metadata": {},
   "outputs": [
    {
     "ename": "AttributeError",
     "evalue": "'DataFrame' object has no attribute 'group_by'",
     "output_type": "error",
     "traceback": [
      "\u001b[0;31m---------------------------------------------------------------------------\u001b[0m",
      "\u001b[0;31mAttributeError\u001b[0m                            Traceback (most recent call last)",
      "\u001b[0;32m<ipython-input-191-ac205e0ae487>\u001b[0m in \u001b[0;36m<module>\u001b[0;34m\u001b[0m\n\u001b[0;32m----> 1\u001b[0;31m \u001b[0mrecords\u001b[0m\u001b[0;34m[\u001b[0m\u001b[0;34m[\u001b[0m\u001b[0;34m'especievalida'\u001b[0m\u001b[0;34m,\u001b[0m \u001b[0;34m'DistConocida'\u001b[0m\u001b[0;34m,\u001b[0m \u001b[0;34m'DistPotencial'\u001b[0m\u001b[0;34m]\u001b[0m\u001b[0;34m]\u001b[0m\u001b[0;34m.\u001b[0m\u001b[0mgroup_by\u001b[0m\u001b[0;34m(\u001b[0m\u001b[0;34m[\u001b[0m\u001b[0;34m'especievalida'\u001b[0m\u001b[0;34m,\u001b[0m \u001b[0;34m'DistConocida'\u001b[0m\u001b[0;34m,\u001b[0m \u001b[0;34m'DistPotencial'\u001b[0m\u001b[0;34m]\u001b[0m\u001b[0;34m)\u001b[0m\u001b[0;34m\u001b[0m\u001b[0;34m\u001b[0m\u001b[0m\n\u001b[0m",
      "\u001b[0;32m~/miniconda3/envs/data-analysis/lib/python3.7/site-packages/pandas/core/generic.py\u001b[0m in \u001b[0;36m__getattr__\u001b[0;34m(self, name)\u001b[0m\n\u001b[1;32m   5272\u001b[0m             \u001b[0;32mif\u001b[0m \u001b[0mself\u001b[0m\u001b[0;34m.\u001b[0m\u001b[0m_info_axis\u001b[0m\u001b[0;34m.\u001b[0m\u001b[0m_can_hold_identifiers_and_holds_name\u001b[0m\u001b[0;34m(\u001b[0m\u001b[0mname\u001b[0m\u001b[0;34m)\u001b[0m\u001b[0;34m:\u001b[0m\u001b[0;34m\u001b[0m\u001b[0;34m\u001b[0m\u001b[0m\n\u001b[1;32m   5273\u001b[0m                 \u001b[0;32mreturn\u001b[0m \u001b[0mself\u001b[0m\u001b[0;34m[\u001b[0m\u001b[0mname\u001b[0m\u001b[0;34m]\u001b[0m\u001b[0;34m\u001b[0m\u001b[0;34m\u001b[0m\u001b[0m\n\u001b[0;32m-> 5274\u001b[0;31m             \u001b[0;32mreturn\u001b[0m \u001b[0mobject\u001b[0m\u001b[0;34m.\u001b[0m\u001b[0m__getattribute__\u001b[0m\u001b[0;34m(\u001b[0m\u001b[0mself\u001b[0m\u001b[0;34m,\u001b[0m \u001b[0mname\u001b[0m\u001b[0;34m)\u001b[0m\u001b[0;34m\u001b[0m\u001b[0;34m\u001b[0m\u001b[0m\n\u001b[0m\u001b[1;32m   5275\u001b[0m \u001b[0;34m\u001b[0m\u001b[0m\n\u001b[1;32m   5276\u001b[0m     \u001b[0;32mdef\u001b[0m \u001b[0m__setattr__\u001b[0m\u001b[0;34m(\u001b[0m\u001b[0mself\u001b[0m\u001b[0;34m,\u001b[0m \u001b[0mname\u001b[0m\u001b[0;34m:\u001b[0m \u001b[0mstr\u001b[0m\u001b[0;34m,\u001b[0m \u001b[0mvalue\u001b[0m\u001b[0;34m)\u001b[0m \u001b[0;34m->\u001b[0m \u001b[0;32mNone\u001b[0m\u001b[0;34m:\u001b[0m\u001b[0;34m\u001b[0m\u001b[0;34m\u001b[0m\u001b[0m\n",
      "\u001b[0;31mAttributeError\u001b[0m: 'DataFrame' object has no attribute 'group_by'"
     ]
    }
   ],
   "source": [
    "records[['especievalida', 'DistConocida', 'DistPotencial']].groupbyby_by(['especievalida', 'DistConocida', 'DistPotencial'])"
   ]
  },
  {
   "cell_type": "code",
   "execution_count": null,
   "metadata": {},
   "outputs": [
    {
     "data": {
      "text/plain": [
       "819"
      ]
     },
     "execution_count": null,
     "metadata": {},
     "output_type": "execute_result"
    }
   ],
   "source": [
    "species_names = records.especievalida.unique()\n",
    "len(species_names)"
   ]
  },
  {
   "cell_type": "code",
   "execution_count": null,
   "metadata": {},
   "outputs": [],
   "source": [
    "query_template = Template('''\n",
    "    { searchTaxon(q:\"categoria:especie AND taxon:'$genus_var AND $epithet_var'\") {\n",
    "            totalCount\n",
    "            edges {\n",
    "              node {\n",
    "                id\n",
    "                taxon\n",
    "                categoria\n",
    "                mapasDistribucion {\n",
    "                  totalCount\n",
    "                  edges {\n",
    "                    node {\n",
    "                      gridcode\n",
    "                      geom\n",
    "                    }\n",
    "                  }\n",
    "                }\n",
    "              }\n",
    "            }\n",
    "          }\n",
    "        }\n",
    "''')"
   ]
  },
  {
   "cell_type": "code",
   "execution_count": null,
   "metadata": {},
   "outputs": [],
   "source": [
    "records['existe_mapa_distribucion'] = None\n",
    "species_results = []\n",
    "for name in species_names:\n",
    "    variables = {\n",
    "       'genus_var' : name.split()[0],\n",
    "       'epithet_var' : name.split()[1]\n",
    "    }\n",
    "    species_result = variables\n",
    "    \n",
    "    query = query_template.substitute(variables)\n",
    "    json_q = { 'query': query }\n",
    "    r = req.post(conabio_gql, json=json_q)\n",
    "    res = json.loads(r.text)\n",
    "    mapas = extract_distribution_map(res)\n",
    "    species_result['mapas'] = mapas\n",
    "    "
   ]
  },
  {
   "cell_type": "code",
   "execution_count": null,
   "metadata": {},
   "outputs": [
    {
     "data": {
      "text/plain": [
       "array(['Pereskia lychnidiflora'], dtype=object)"
      ]
     },
     "execution_count": null,
     "metadata": {},
     "output_type": "execute_result"
    }
   ],
   "source": [
    "records.loc[records.existe_mapa_distribucion].especievalida.unique()"
   ]
  },
  {
   "cell_type": "code",
   "execution_count": null,
   "metadata": {},
   "outputs": [],
   "source": [
    "records.query('DistConocida == No')"
   ]
  }
 ],
 "metadata": {
  "kernelspec": {
   "display_name": "Python 3",
   "language": "python",
   "name": "python3"
  }
 },
 "nbformat": 4,
 "nbformat_minor": 4
}
